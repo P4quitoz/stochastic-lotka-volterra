{
 "cells": [
  {
   "cell_type": "markdown",
   "id": "122620e6",
   "metadata": {},
   "source": [
    "### Ghirardo Edoardo (3185254), Francois Hoche (3175552), Elisa Tofanelli (3219113)\n",
    "\n",
    "30561 STOCHASTIC PROCESSES AND SIMULATION IN NATURAL SCIENCES - Group Project"
   ]
  },
  {
   "cell_type": "code",
   "execution_count": null,
   "id": "12e52a50",
   "metadata": {},
   "outputs": [],
   "source": [
    "import numpy as np\n",
    "import matplotlib.pyplot as plt\n",
    "from IPython.display import display\n",
    "import random\n",
    "from ipywidgets import interact, FloatSlider, IntSlider, IntText\n",
    "import pickle"
   ]
  },
  {
   "cell_type": "markdown",
   "id": "f0801594",
   "metadata": {},
   "source": [
    "\n",
    "# Lotka-Volterra Models: Deterministic vs Stochastic Approaches\n",
    "\n",
    "In this notebook, we compare three implementations of the classic Lotka-Volterra predator-prey model:\n",
    "\n",
    "1. **Deterministic model**: this is the standard model using ordinary differential equations (ODEs)\n",
    "2. **Stochastic differential equation (SDE)**: noise is added to the deterministic model\n",
    "3. **Stochastic Simulation Algorithm (SSA)**: continuous-time Markkov chain model, with discrete state spaces\n",
    "\n",
    "In all three cases, the aim is to simulate the dynamics of a predator-prey system, where:\n",
    "- The prey population grows exponentially in the absence of predators, it declines due to predation at a rate proportional to the predator and prey populations\n",
    "- The predator population grows at a rate proportional to the prey population, and declines due to natural death at a constant rate"
   ]
  },
  {
   "cell_type": "markdown",
   "id": "294fdeb1",
   "metadata": {},
   "source": [
    "# 1. Deterministic Lotka-Volterra Model "
   ]
  },
  {
   "cell_type": "markdown",
   "id": "0f4c090b",
   "metadata": {},
   "source": [
    "## Model Equations"
   ]
  },
  {
   "cell_type": "markdown",
   "id": "26684de1",
   "metadata": {},
   "source": [
    "Lotka-Volterra equations:\n",
    "$$\n",
    "\\begin{aligned}\n",
    "dx = (\\alpha x - \\beta xy) dt\\\\\n",
    "dy = (\\delta xy - \\gamma y) dt\n",
    "\\end{aligned}\n",
    "$$\n",
    "\n",
    "\n",
    "Where:\n",
    "\n",
    "- $ x $ is the number of prey  \n",
    "- $ y $ is the number of predators  \n",
    "- $ \\alpha$ is the growth rate of prey in the absence of predators\n",
    "- $ \\beta$ is the rate of predation\n",
    "- $ \\delta$ is the growth rate of predators per prey eaten\n",
    "- $ \\gamma$ is the natural death rate of predators"
   ]
  },
  {
   "cell_type": "markdown",
   "id": "fd41ed25",
   "metadata": {},
   "source": [
    "We will simulate this model using Euler's method, for simplicity and direct comparison with the Euler-Maruyama method we will use in the SDE model."
   ]
  },
  {
   "cell_type": "code",
   "execution_count": null,
   "id": "685f0840",
   "metadata": {},
   "outputs": [],
   "source": [
    "def simulate_lv(alpha, beta, delta, gamma, x0, y0, T, dt):\n",
    "    t = np.arange(0, T, dt) # time vector\n",
    "    x = [x0]\n",
    "    y = [y0] # initial populations of prey and predators\n",
    "\n",
    "    for i in range(1, len(t)):\n",
    "        dx = alpha * x[i-1] - beta * x[i-1] * y[i-1] # Prey growth\n",
    "        dy = delta * x[i-1] * y[i-1] - gamma * y[i-1] # Predator growth\n",
    "        \n",
    "        x_next = x[i-1] + dx * dt  # solving the ODE using Euler's method \n",
    "        y_next = y[i-1] + dy * dt\n",
    "        \n",
    "        x.append(max(x_next, 0))\n",
    "        y.append(max(y_next, 0))\n",
    "    \n",
    "    return np.array(t), np.array(x), np.array(y) \n",
    "\n",
    "def plot_lv_dynamics(t, x, y): \n",
    "    plt.figure(figsize=(12, 4))\n",
    "    plt.plot(t, x, label='Prey (x)', color='blue')\n",
    "    plt.plot(t, y, label='Predator (y)', color='red')\n",
    "    plt.xlabel('Time')\n",
    "    plt.ylabel('Population')\n",
    "    plt.title('Deterministic Lotka-Volterra Dynamics')\n",
    "    plt.legend()\n",
    "    plt.grid(True)\n",
    "    plt.show()\n",
    "\n",
    "\n",
    "# since we want to use the interact function, we define the run function for simulation and plot \n",
    "def run_lv(alpha, beta, delta, gamma, x0, y0, T, dt):\n",
    "    t, x, y = simulate_lv(alpha, beta, delta, gamma, x0, y0, T, dt)\n",
    "    plot_lv_dynamics(t, x, y)\n",
    "\n",
    "# here is an interactive plot for everything, we can study the behaviour of the model by changing the parameters \n",
    "# we can also change the population size, which can be usefull to study the behaviour based on it, because in the futur we will like to have it fixed. \n",
    "output_lv = interact(\n",
    "    run_lv,\n",
    "    alpha=FloatSlider(min=0.0, max=2.0, step=0.05, value=1.0, description='α (Prey growth)'),\n",
    "    beta=FloatSlider(min=0.01, max=1.0, step=0.01, value=0.1, description='β (Predation rate)'),\n",
    "    delta=FloatSlider(min=0.005, max=0.1, step=0.005, value=0.075, description='δ (Pred. reproduction)'),\n",
    "    gamma=FloatSlider(min=0.1, max=2.0, step=0.05, value=1.5, description='γ (Pred. death)'),\n",
    "    x0=IntSlider(min=10, max=200, step=10, value=40, description='Initial Prey'),\n",
    "    y0=IntSlider(min=5, max=100, step=5, value=10, description='Initial Predator'),\n",
    "    T=IntSlider(min=10, max=100, step=5, value=50, description='T (Simulation Time)'),\n",
    "    dt=FloatSlider(min=0.0005, max=0.01, step=0.0005, value=0.01, description='dt (Timestep)')\n",
    ")\n",
    "\n",
    "display(output_lv)"
   ]
  },
  {
   "cell_type": "code",
   "execution_count": null,
   "id": "581d78fb",
   "metadata": {},
   "outputs": [],
   "source": [
    "alpha_vals = np.linspace(0.1, 1.0, 20)\n",
    "beta_vals = np.linspace(0.001, 0.05, 20)\n",
    "gamma_vals = np.linspace(0.1, 1.0, 20)"
   ]
  },
  {
   "cell_type": "code",
   "execution_count": null,
   "id": "93fc6f3e",
   "metadata": {},
   "outputs": [],
   "source": [
    "alpha_vals = np.linspace(0.1, 1.0, 20)\n",
    "beta_vals = np.linspace(0.001, 0.05, 20)\n",
    "gamma_vals = np.linspace(0.1, 1.0, 20)"
   ]
  },
  {
   "cell_type": "markdown",
   "id": "a1077cc8",
   "metadata": {},
   "source": [
    "The default plot is with some significative parameters, but it is possible to change them with the sliders."
   ]
  },
  {
   "cell_type": "markdown",
   "id": "9840b07b",
   "metadata": {},
   "source": [
    "# 2. Stochastic Lotka-Volterra Model (continuous case)"
   ]
  },
  {
   "cell_type": "markdown",
   "id": "48a24b76",
   "metadata": {},
   "source": [
    "This method introduces continuous noise into the ODEs. It captures environmental randomness.\n",
    "\n",
    "\n",
    "To account for such randomness, we introduce **stochasticity** into the model using **stochastic differential equations (SDEs)**. This leads to the **stochastic Lotka–Volterra (SLV) model**, which captures more realistic population dynamics under uncertain biological conditions."
   ]
  },
  {
   "cell_type": "markdown",
   "id": "d807eb71",
   "metadata": {},
   "source": [
    "## Mathematical Formulation"
   ]
  },
  {
   "cell_type": "markdown",
   "id": "317d700e",
   "metadata": {},
   "source": [
    "The stochastic model can be written as:\n",
    "\n",
    "$$\n",
    "\\begin{aligned}\n",
    "dx &= [\\alpha x - \\beta xy]\\,dt + \\sigma_1 x\\,dB_1 \\\\\n",
    "dy &= [\\delta xy - \\gamma y]\\,dt + \\sigma_2 y\\,dB_2\n",
    "\\end{aligned}\n",
    "$$\n",
    "\n",
    "Where : \n",
    "\n",
    "- $ x $ and $ y $ are the number of prey and predators respectively, like in the deterministic model.\n",
    "- $\\alpha, \\beta , \\gamma , \\delta$ are the same as the deterministic model. \n",
    "- $ \\sigma_1, \\sigma_2 $ are the intensities of environmental noise for prey and predators respectively.\n",
    "- $ dB_1, dB_2$ are independent brownian increments\n",
    "\n",
    "This model provides a more realistic depiction of population dynamics, allowing us to study phenomena such as extinction risk, persistence under noise, and long-term variability."
   ]
  },
  {
   "cell_type": "markdown",
   "id": "695035e7",
   "metadata": {},
   "source": [
    "We will simulate this model using the Euler-Maruyama method."
   ]
  },
  {
   "cell_type": "code",
   "execution_count": null,
   "id": "698b890f",
   "metadata": {},
   "outputs": [],
   "source": [
    "def simulate_lv_sde(alpha, beta, delta, gamma, sigma1, sigma2, x0, y0, T, dt, seed=None):\n",
    "    if seed is not None:\n",
    "        np.random.seed(seed)\n",
    "\n",
    "    t = np.arange(0, T, dt)\n",
    "    x = np.zeros(len(t))\n",
    "    y = np.zeros(len(t))\n",
    "    x[0], y[0] = x0, y0\n",
    "\n",
    "    for n in range(1, len(t)):\n",
    "        z_n = np.random.randn()\n",
    "        w_n = np.random.randn()\n",
    "\n",
    "        x_prev, y_prev = x[n-1], y[n-1]\n",
    "        dx = (alpha * x_prev - beta * x_prev * y_prev) * dt + sigma1 * x_prev * np.sqrt(dt) * z_n\n",
    "        dy = (delta * x_prev * y_prev - gamma * y_prev) * dt + sigma2 * y_prev * np.sqrt(dt) * w_n\n",
    "\n",
    "        x[n] = max(x_prev + dx, 0)\n",
    "        y[n] = max(y_prev + dy, 0)\n",
    "\n",
    "    return t, x, y\n",
    "\n",
    "# Plotting function\n",
    "def plot_lv_sde(t, x, y):\n",
    "    # Time series\n",
    "    plt.figure(figsize=(12, 4))\n",
    "    plt.plot(t, x, label='Prey (x)', color='blue')\n",
    "    plt.plot(t, y, label='Predator (y)', color='red')\n",
    "    plt.xlabel(\"Time\")\n",
    "    plt.ylabel(\"Population\")\n",
    "    plt.title(\"Stochastic Lotka–Volterra Dynamics (Euler–Maruyama)\")\n",
    "    plt.legend()\n",
    "    plt.grid(True)\n",
    "\n",
    "\n",
    "\n",
    "# Wrapper function for interactive simulation\n",
    "def run_lv_sde(alpha, beta, delta, gamma, sigma1, sigma2, x0, y0, T, dt, seed):\n",
    "    t, x, y = simulate_lv_sde(alpha, beta, delta, gamma, sigma1, sigma2, x0, y0, T, dt, seed)\n",
    "    plot_lv_sde(t, x, y)\n",
    "\n",
    "# Create interactive UI\n",
    "output_slv = interact(\n",
    "    run_lv_sde,\n",
    "    seed=IntText(value=random.randint(0, 10000), description='Seed'),\n",
    "    alpha=FloatSlider(min=0.0, max=2.0, step=0.05, value=1.0, description='α (Prey growth)'),\n",
    "    beta=FloatSlider(min=0.01, max=1.0, step=0.01, value=0.1, description='β (Predation rate)'),\n",
    "    delta=FloatSlider(min=0.005, max=0.1, step=0.005, value=0.075, description='δ (Pred. reproduction)'),\n",
    "    gamma=FloatSlider(min=0.1, max=2.0, step=0.05, value=1.5, description='γ (Pred. death)'),\n",
    "    sigma1=FloatSlider(min=0.0, max=1.0, step=0.05, value=0.2, description='σ₁ (Prey noise)'),\n",
    "    sigma2=FloatSlider(min=0.0, max=1.0, step=0.05, value=0.2, description='σ₂ (Pred. noise)'),\n",
    "    x0=IntSlider(min=10, max=200, step=10, value=40, description='Initial Prey'),\n",
    "    y0=IntSlider(min=5, max=100, step=5, value=10, description='Initial Predator'),\n",
    "    T=IntSlider(min=10, max=100, step=5, value=50, description='T (Simulation Time)'),\n",
    "    dt=FloatSlider(min=0.0005, max=0.01, step=0.0005, value=0.01, description='dt (Timestep)')\n",
    ")\n",
    "\n",
    "display(output_slv)"
   ]
  },
  {
   "cell_type": "markdown",
   "id": "20f4f362",
   "metadata": {},
   "source": [
    "The general behavior of the system — governed by the parameters $\\alpha$, $\\beta$, $\\gamma$, and $\\delta$ — remains consistent with the deterministic version.\n",
    "\n",
    "The main difference lies in the presence of stochastic noise: the trajectories are no longer smooth, but exhibit random fluctuations around the deterministic paths. This variability is directly influenced by the noise intensities $\\sigma_1$ and $\\sigma_2$, which control the amplitude of the stochastic perturbations on the prey and predator populations, respectively.\n",
    "\n",
    "As expected:\n",
    "- Lower values of $\\sigma_1$ and $\\sigma_2$ lead to dynamics that ressembles the deterministic model.\n",
    "- Higher values introduce more pronounced deviations, increasing the irregularity of the cycles and the unpredictability of population levels.\n",
    "\n",
    "Overall, the simulation confirms the theoretical expectations: the stochastic model behaves like the deterministic one, but with noise whose magnitude depends directly on the chosen noise parameters."
   ]
  },
  {
   "cell_type": "markdown",
   "id": "52891dec",
   "metadata": {},
   "source": [
    "# 3. Stochastic Lotka-Volterra Model (discrete case)"
   ]
  },
  {
   "cell_type": "markdown",
   "id": "6b085149",
   "metadata": {},
   "source": [
    "This approach models discrete birth, death, and interaction events. It's ideal for small populations: unlike the ODE and SDE models, which are continuous in time and space, this model is discrete in the state space (the number of individuals), but continuous in time."
   ]
  },
  {
   "cell_type": "markdown",
   "id": "0ffa49ff",
   "metadata": {},
   "source": [
    "## Mathematical Formulation"
   ]
  },
  {
   "cell_type": "markdown",
   "id": "a146201f",
   "metadata": {},
   "source": [
    "We model the predator-prey interactions as a continuous-time Markov chain with discrete state space. The state of the system is represented by the pair $(x,y)$, and the transitions between states are governed by the following reactions:\n",
    "\n",
    "   $$\n",
    "   \\begin{aligned}\n",
    "   \\text{Prey reproduction:} & \\quad x \\xrightarrow{\\alpha} x + 1 \\\\\n",
    "   \\text{Predation:} & \\quad (x,y) \\xrightarrow{\\beta} (x -1, y+1) \\\\\n",
    "   \\text{Predator death:} & \\quad y \\xrightarrow{\\gamma} y -1\n",
    "   \\end{aligned}\n",
    "   $$\n",
    "\n",
    "Where:\n",
    "- $x$ and $y$ are the number of prey and predators respectively, like in the previous models.\n",
    "- $\\alpha$ is the rate of prey reproduction\n",
    "- $\\beta$ is the rate of predation\n",
    "- $\\gamma$ is the rate of predator death"
   ]
  },
  {
   "cell_type": "markdown",
   "id": "0a5df84c",
   "metadata": {},
   "source": [
    "We simulate the model using Gillespie's algorithm."
   ]
  },
  {
   "cell_type": "code",
   "execution_count": null,
   "id": "7cfd8d5d",
   "metadata": {},
   "outputs": [],
   "source": [
    "# Stochastic simulation using Gillespie algorithm\n",
    "def simulate_lv_reactions(alpha, beta, gamma, x0, y0, T, seed=None):\n",
    "    if seed is not None:\n",
    "        np.random.seed(seed)\n",
    "\n",
    "    # Initial time and populations\n",
    "    t = [0.0]\n",
    "    x = [x0]\n",
    "    y = [y0]\n",
    "\n",
    "    while t[-1] < T and x[-1] > 0 and y[-1] > 0: # Continue while either time is ended, either one of the population is 0\n",
    "        x_curr, y_curr = x[-1], y[-1]\n",
    "\n",
    "        # Propensities (event rates)\n",
    "        a1 = alpha * x_curr                 # Prey reproduction\n",
    "        a2 = beta * x_curr * y_curr         # Predation\n",
    "        a3 = gamma * y_curr                 # Predator death\n",
    "        a_total = a1 + a2 + a3\n",
    "\n",
    "        if a_total == 0:\n",
    "            break  # no more reactions possible\n",
    "\n",
    "        # Time to next event\n",
    "        dt = np.random.exponential(1.0 / a_total)\n",
    "        t.append(t[-1] + dt)\n",
    "\n",
    "        # Determine which event occurs\n",
    "        r = np.random.rand() * a_total\n",
    "        if r < a1:\n",
    "            x.append(x_curr + 1)    # prey reproduces\n",
    "            y.append(y_curr)\n",
    "        elif r < a1 + a2:\n",
    "            x.append(x_curr - 1)    # predation: prey dies\n",
    "            y.append(y_curr + 1)    # predator reproduces\n",
    "        else:\n",
    "            x.append(x_curr)        # predator dies\n",
    "            y.append(y_curr - 1)\n",
    "    \n",
    "\n",
    "    return np.array(t), np.array(x), np.array(y)\n",
    "\n",
    "def plot_lv_reactions(t, x, y):\n",
    "    # Time series\n",
    "    plt.figure(figsize=(12, 4))\n",
    "    plt.step(t, x, where='post', label='Prey (x)', color='blue')\n",
    "    plt.step(t, y, where='post', label='Predator (y)', color='red')\n",
    "    if x[-1] == 0:\n",
    "        plt.plot(t[-1], x[-1], c='black', marker='X', markersize=20)\n",
    "    if y[-1] == 0:\n",
    "        plt.plot(t[-1], y[-1], c='black', marker='X', markersize=20)\n",
    "    plt.xlabel(\"Time\")\n",
    "    plt.ylabel(\"Population\")\n",
    "    plt.title(\"Stochastic Reaction Simulation (Gillespie Algorithm)\")\n",
    "    plt.legend()\n",
    "    plt.grid(True)\n",
    "\n",
    "# Create interactive UI for the stochastic simulation\n",
    "def run_lv_reactions(alpha, beta, gamma, x0, y0, T, seed):\n",
    "    t, x, y = simulate_lv_reactions(alpha, beta, gamma, x0, y0, T, seed)\n",
    "    plot_lv_reactions(t, x, y)\n",
    "\n",
    "# Interactive widget with biological parameter descriptions\n",
    "output_dslv = interact(\n",
    "    run_lv_reactions,\n",
    "    alpha=FloatSlider(min=0.00, max=2.0, step=0.1, value=1, description='α (Prey birth)'),\n",
    "    beta=FloatSlider(min=0.0001, max=0.1, step=0.0005, value=0.01, description='β (Predation)'), \n",
    "    gamma=FloatSlider(min=0.01, max=2.0, step=0.01, value=1.5, description='γ (Pred. death)'),\n",
    "    x0=IntSlider(min=10, max=200, step=10, value=40, description='Initial Prey'),\n",
    "    y0=IntSlider(min=5, max=100, step=5, value=10, description='Initial Predator'),\n",
    "    T=IntSlider(min=10, max=100, step=5, value=50, description='T (Simulation Time)'),\n",
    "    seed=IntText(value=random.randint(0, 10000), description='Seed')\n",
    ")\n",
    "\n",
    "display(output_dslv)"
   ]
  },
  {
   "cell_type": "markdown",
   "id": "df77e826",
   "metadata": {},
   "source": [
    "## Study of the parameters"
   ]
  },
  {
   "cell_type": "markdown",
   "id": "9f3abd58",
   "metadata": {},
   "source": [
    "By playing with the sliders, we notice that some combinations of parameters can lead to the extinction of either species (signalled on the plot with a black cross). We stop the simulation at the time of extinction of either species because in case of prey extinction, we would have almost sure extinction of the predator, while in case of predator extinction, we would have eventual unlimited growth of the prey.\n",
    "\n",
    "We are interested in studying how the likelihood of extinction varies based on the parameters that we can set. For this reason, we will choose significant default values and intervals of the parameters (which we found interesting in our experiments) and pair them to see how they interactively affect the extinction probability.\n",
    "- $T$ is fixed at 30\n",
    "- $x_0$ is fixed at 40\n",
    "- $y_0$ is fixed at 10\n",
    "- $\\alpha$ will vary between 0.1 and 1.0, with a default value at 0.5\n",
    "- $\\beta$ will vary between 0.01 and 0.05, with a default value at 0.025\n",
    "- $\\gamma$ will vary between 0.1 and 1.0, with a default value at 0.5"
   ]
  },
  {
   "cell_type": "code",
   "execution_count": null,
   "id": "1cec3169",
   "metadata": {},
   "outputs": [],
   "source": [
    "def extinction_heatmap(param1_name, param1_vals, param2_name, param2_vals, fixed_params=None, x0=100, y0=20, T=50, runs=50):\n",
    "    if fixed_params is None:\n",
    "        fixed_params = {}\n",
    "    \n",
    "    # Default parameter values if not specified\n",
    "    default_params = {\n",
    "        'alpha': 0.5,  # Default prey birth rate\n",
    "        'beta': 0.025,  # Default predation rate\n",
    "        'gamma': 0.5   # Default predator death rate\n",
    "    }\n",
    "    \n",
    "    # Update defaults with any provided fixed parameters\n",
    "    params = default_params.copy()\n",
    "    params.update(fixed_params)\n",
    "    \n",
    "    # Create empty array for extinction probabilities\n",
    "    Z = np.zeros((len(param1_vals), len(param2_vals)))\n",
    "    \n",
    "    # Loop through parameter combinations\n",
    "    for i, val1 in enumerate(param1_vals):\n",
    "        for j, val2 in enumerate(param2_vals):\n",
    "            # Set the varying parameters\n",
    "            params[param1_name] = val1\n",
    "            params[param2_name] = val2\n",
    "            \n",
    "            # Run simulations and count extinctions\n",
    "            ext = 0\n",
    "            for _ in range(runs):\n",
    "                _, x, _ = simulate_lv_reactions(\n",
    "                    alpha=params['alpha'],\n",
    "                    beta=params['beta'],\n",
    "                    gamma=params['gamma'],\n",
    "                    x0=x0, y0=y0, T=T\n",
    "                )\n",
    "                if x[-1] == 0:\n",
    "                    ext += 1\n",
    "            \n",
    "            Z[i, j] = ext / runs\n",
    "    \n",
    "    return Z\n",
    "\n",
    "def plot_heatmap(Z, param1_vals, param2_vals, param1_name, param2_name):\n",
    "    plt.figure(figsize=(8, 6))\n",
    "    plt.imshow(Z, origin='lower', \n",
    "               extent=[param2_vals[0], param2_vals[-1], param1_vals[0], param1_vals[-1]],\n",
    "               aspect='auto', cmap='plasma')\n",
    "    \n",
    "    plt.colorbar(label='Prey Extinction Probability')\n",
    "\n",
    "    descriptions = {\n",
    "        'alpha': 'Prey birth rate',\n",
    "        'beta': 'Predation rate',\n",
    "        'gamma': 'Predator death rate'\n",
    "    }\n",
    "    \n",
    "    # Format parameter names for axis labels\n",
    "    param1_label = f\"{param1_name} ({descriptions[param1_name]})\"\n",
    "    param2_label = f\"{param2_name} ({descriptions[param2_name]})\"\n",
    "    \n",
    "    plt.ylabel(param1_label)\n",
    "    plt.xlabel(param2_label)\n",
    "    plt.title(f'Prey Extinction: {param1_name} vs. {param2_name}')\n",
    "    plt.grid(False)\n",
    "\n",
    "alpha_vals = np.linspace(0.1, 1.0, 20)\n",
    "beta_vals = np.linspace(0.001, 0.05, 20)\n",
    "gamma_vals = np.linspace(0.1, 1.0, 20)"
   ]
  },
  {
   "cell_type": "code",
   "execution_count": null,
   "id": "e2512a77",
   "metadata": {},
   "outputs": [],
   "source": [
    "# code is commented to avoid long runtime\n",
    "# Z1 = extinction_heatmap('alpha', alpha_vals, 'beta', beta_vals, fixed_params={'gamma': 0.5})\n",
    "# pickle.dump(Z1, open(\"simulations/Z1.p\", \"wb\"))"
   ]
  },
  {
   "cell_type": "code",
   "execution_count": null,
   "id": "f01f4041",
   "metadata": {},
   "outputs": [],
   "source": [
    "# load the data from the file\n",
    "Z1 = pickle.load(open(\"simulations/Z1.p\", \"rb\"))\n",
    "plot_heatmap(Z1, alpha_vals, beta_vals, 'alpha', 'beta')\n",
    "plt.show()"
   ]
  },
  {
   "cell_type": "markdown",
   "id": "a18a8ceb",
   "metadata": {},
   "source": [
    "The outcome here might seem surprising: higher values of $\\alpha$ also lead to a higher extinction rate. This can however be explained by the cycles we see in the interactive plot above. A high prey birth rate leads to higher and faster predator-prey cycles, which increase the likelihood of prey going extinct within the fixed $T$. In this case, we can say that the effect of a higher prey birth rate is similar to that of a longer time. Unsurprisingly, the predation rate $\\beta$ seems to have positive correlation with the prey extinction probability."
   ]
  },
  {
   "cell_type": "code",
   "execution_count": null,
   "id": "a7b9d6a7",
   "metadata": {},
   "outputs": [],
   "source": [
    "# code is commented to avoid long runtime\n",
    "# Z2 = extinction_heatmap('beta', beta_vals, 'gamma', gamma_vals, fixed_params={'alpha': 0.5})\n",
    "# pickle.dump(Z2, open(\"simulations/Z2.p\", \"wb\"))"
   ]
  },
  {
   "cell_type": "code",
   "execution_count": null,
   "id": "713f3da1",
   "metadata": {},
   "outputs": [],
   "source": [
    "Z2 = pickle.load(open(\"simulations/Z2.p\", \"rb\"))\n",
    "plot_heatmap(Z2, beta_vals, gamma_vals, 'beta', 'gamma')\n",
    "plt.show()"
   ]
  },
  {
   "cell_type": "markdown",
   "id": "d0725041",
   "metadata": {},
   "source": [
    "In this plot (and in the one below), we see that $\\gamma$, the predator death rate, has an unsurprising negative relationship with the prey extinction rate. Once again, higher values of $\\beta$ relate with higher extinction rates."
   ]
  },
  {
   "cell_type": "code",
   "execution_count": null,
   "id": "fe8fd683",
   "metadata": {},
   "outputs": [],
   "source": [
    "# code is commented to avoid long runtime\n",
    "# Z3 = extinction_heatmap('alpha', alpha_vals, 'gamma', gamma_vals, fixed_params={'beta': 0.025})\n",
    "# pickle.dump(Z3, open(\"simulations/Z3.p\", \"wb\"))"
   ]
  },
  {
   "cell_type": "code",
   "execution_count": null,
   "id": "281c002d",
   "metadata": {},
   "outputs": [],
   "source": [
    "Z3 = pickle.load(open(\"simulations/Z3.p\", \"rb\"))\n",
    "plot_heatmap(Z3, alpha_vals, gamma_vals, 'alpha', 'gamma')"
   ]
  },
  {
   "cell_type": "markdown",
   "id": "6d1b56d2",
   "metadata": {},
   "source": [
    "This plot confirms the effects we have seen previously, suggesting that the three parameters have strong individual contributions to the extinction rate relative to the interaction effects."
   ]
  }
 ],
 "metadata": {
  "kernelspec": {
   "display_name": "SLV-model",
   "language": "python",
   "name": "python3"
  },
  "language_info": {
   "codemirror_mode": {
    "name": "ipython",
    "version": 3
   },
   "file_extension": ".py",
   "mimetype": "text/x-python",
   "name": "python",
   "nbconvert_exporter": "python",
   "pygments_lexer": "ipython3",
   "version": "3.12.9"
  }
 },
 "nbformat": 4,
 "nbformat_minor": 5
}
