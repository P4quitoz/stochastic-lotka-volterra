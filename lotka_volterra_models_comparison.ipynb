{
 "cells": [
  {
   "cell_type": "markdown",
   "id": "f0801594",
   "metadata": {},
   "source": [
    "\n",
    "# Lotka-Volterra Models: Deterministic vs Stochastic Approaches\n",
    "\n",
    "In this notebook, we compare three implementations of the classic Lotka-Volterra predator-prey model:\n",
    "\n",
    "1. **Deterministic model** using ordinary differential equations (ODEs)\n",
    "2. **Stochastic differential equation (SDE)** model using the Euler-Maruyama method\n",
    "3. **Stochastic Simulation Algorithm (SSA)** using Gillespie's method\n"
   ]
  },
  {
   "cell_type": "markdown",
   "id": "294fdeb1",
   "metadata": {},
   "source": [
    "\n",
    "# 1) Deterministic Lotka-Volterra Model \n",
    "\n",
    "\n",
    "\n",
    "## Model Equations\n",
    "\n",
    "**Prey equation:**\n",
    "\n",
    "$$\n",
    "\\frac{dx}{dt} = \\alpha x - \\beta xy\n",
    "$$\n",
    "\n",
    "**Predator equation:**\n",
    "\n",
    "$$\n",
    "\\frac{dy}{dt} = \\delta xy - \\gamma y\n",
    "$$\n",
    "\n",
    "\n",
    "\n",
    "#### Model Parameters and Variables\n",
    "\n",
    "- $ x $: number of prey  \n",
    "- $ y $: number of predators  \n",
    "- $ \\frac{dx}{dt} $, $ \\frac{dy}{dt} $: instantaneous growth rates of the two populations  \n",
    "- $ t $: time  \n",
    "- $ \\alpha, \\beta, \\gamma, \\delta $: positive real parameters describing the interaction of the two species  \n"
   ]
  },
  {
   "cell_type": "markdown",
   "id": "fc0ea976",
   "metadata": {},
   "source": [
    "Now We can describe the pray and predator equations in detail with the parameters. \n"
   ]
  },
  {
   "cell_type": "markdown",
   "id": "04b6494e",
   "metadata": {},
   "source": [
    "###  Prey Equation: \n",
    "$ \\frac{dx}{dt} = \\alpha x - \\beta xy $\n",
    "\n",
    "Assumption 1 : The prey are assumed to have an unlimited food supply and to reproduce exponentially, unless subject to predation.\n",
    "\n",
    "- This exponential growth is represented in the equation by the term $ \\alpha x $.  \n",
    "\n",
    "-Assumption 2: The rate of predation upon the prey is assumed to be proportional to the rate at which predators and prey meet, represented by $ \\beta xy $.  \n",
    "- If either $ x $ or $ y $ is zero, there can be no predation.  \n",
    "\n",
    "> **Interpretation:**  \n",
    "> The rate of change of the prey's population is given by its own growth rate minus the rate at which it is preyed upon.\n",
    "\n",
    "\n"
   ]
  },
  {
   "cell_type": "markdown",
   "id": "3b30e501",
   "metadata": {},
   "source": [
    "### Predator Equation: \n",
    "$ \\frac{dy}{dt} = \\delta xy - \\gamma y $\n",
    "\n",
    "- In this equation, $ \\delta xy $ represents the growth of the predator population.  \n",
    "- The rate at which the predator population grows is not necessarily equal to the rate at which it consumes the prey (hence a different constant). \n",
    "- $ \\gamma y $ represents the loss rate of the predators due to natural death or emigration, leading to exponential decay in the absence of prey.  \n",
    "\n",
    "> **Interpretation:**  \n",
    "> The rate of change of the predator's population depends upon the rate at which it consumes prey, minus its intrinsic death rate.\n",
    "\n"
   ]
  },
  {
   "cell_type": "markdown",
   "id": "9840b07b",
   "metadata": {},
   "source": [
    "# 2️⃣ Stochastic Differential Equations (Euler-Maruyama)\n",
    "\n",
    "This method introduces continuous noise into the ODEs. It captures environmental randomness.\n",
    "\n",
    "\n",
    "To account for such randomness, we introduce **stochasticity** into the model using **stochastic differential equations (SDEs)**. This leads to the **stochastic Lotka–Volterra (SLV) model**, which captures more realistic population dynamics under uncertain biological conditions.\n",
    "\n",
    "## Mathematical Formulation\n",
    "\n",
    "The stochastic model can be written as:\n",
    "\n",
    "$$\n",
    "\\begin{aligned}\n",
    "dx(t) &= (\\alpha x(t) - \\beta x(t)y(t))\\,dt + \\sigma_1 x(t)\\,dB_1(t) \\\\\\\\\n",
    "dy(t) &= (\\delta x(t)y(t) - \\gamma y(t))\\,dt + \\sigma_2 y(t)\\,dB_2(t)\n",
    "\\end{aligned}\n",
    "$$\n",
    "\n",
    "Where : \n",
    "\n",
    "- $ x(t) $ and $ y(t) $ are the same as the deterministic model\n",
    "- $\\alpha, \\beta , \\gamma , \\delta are the same as the deterministic model. \n",
    "- $ \\sigma_1, \\sigma_2 $: intensity of environmental noise for prey and predators respectively.\n",
    "- $ dB_1, dB_2$: independent increaments of Brownian process from $t$ to $t + dt$, meaning it has mean $0$ and variance $dt$ \n"
   ]
  },
  {
   "cell_type": "markdown",
   "id": "b087f450",
   "metadata": {},
   "source": [
    "## Numerical Approximation: Euler–Maruyama Method\n",
    "\n",
    "Since SDEs typically do not admit closed-form solutions, we use numerical methods for simulation. The **Euler–Maruyama method** is a stochastic extension of the Euler method and approximates the solution by following these steps : \n",
    "\n",
    "Desctretize time as $t_n = ndt $ where n is an integer. \n",
    "\n",
    "To simulate the realization of the process we need to compute $ X_n = X(t_n)$ and $Y_n = Y(t_n)$\n",
    "\n",
    "$$\n",
    "\\begin{aligned}\n",
    "\n",
    "X_{n+1} = X_{n} + (\\alpha x(t) - \\beta x(t)y(t))\\,dt + \\sigma_1 x(t) \\sqrt(dt) z_n  \\\\\\\\\n",
    "\n",
    "Y_{n+1} = Y_{n} + (\\delta x(t)y(t) - \\gamma y(t))\\,dt + \\sigma_2 y(t) \\sqrt(dt) w_n\n",
    "\n",
    "\n",
    "\\end{aligned}\n",
    "\n",
    "$$\n",
    "\n",
    "\n",
    "With : \n",
    "- $ X_0$ = 0 \n",
    "- {z_n} are iid standard Gaussian variables. \n",
    "- {w_n} are iid standard Gaussian variables. \n",
    "\n",
    "\n",
    "\n",
    "\n",
    "This model provides a more realistic depiction of population dynamics, allowing us to study phenomena such as extinction risk, persistence under noise, and long-term variability.\n",
    "\n",
    "---"
   ]
  },
  {
   "cell_type": "markdown",
   "id": "52891dec",
   "metadata": {},
   "source": [
    "\n",
    "\n",
    "\n",
    "\n",
    "## 3️⃣ Gillespie Algorithm (Stochastic Simulation Algorithm)\n",
    "\n",
    "This approach models discrete birth, death, and interaction events. It's ideal for small populations.\n",
    "\n",
    "\n",
    "# Introduction: Gillespie Algorithm for the Stochastic Lotka–Volterra Model\n",
    "\n",
    "The **Lotka–Volterra model** describes the dynamics between two interacting species: a prey and a predator. While the deterministic version uses differential equations to model average behavior, real-world ecosystems exhibit randomness due to discrete events like individual births, deaths, and interactions.\n",
    "\n",
    "To capture this stochastic nature, we employ the **Gillespie algorithm**, also known as the **Stochastic Simulation Algorithm (SSA)**. This method simulates each reaction event individually, making it especially suitable for systems with small population sizes where random fluctuations are significant.\n",
    "\n",
    "## Reaction Scheme\n",
    "\n",
    "We model the predator-prey interactions with the following reactions:\n",
    "\n",
    "1. **Prey reproduction**:  \n",
    "   $ X_1 \\xrightarrow{c_1} 2 \\times X_1 $\n",
    "\n",
    "2. **Predation**:  \n",
    "   $ X_1 + Y_1 \\xrightarrow{c_2} 2 \\times Y_1 $\n",
    "\n",
    "3. **Predator death**:  \n",
    "   $ Y_1 \\xrightarrow{c_3} \\emptyset $\n",
    "\n",
    "Here, $ c_1, c_2, $ and $ c_3 $ are the reaction rate constants. \n",
    "\n",
    "- Prey reproduction meaning that prey X_1 double it's population at rate c1 (in the deterministic model, the multiplier is $\\alpha$ in our deterministic rate)\n",
    "- The predation in this case is read as : a predator meets a pray, consumes it and uses its energy to reproduce. \n",
    "- The predator death is the instinction of the predators in the absence of prey. \n",
    "\n",
    "## Gillespie Algorithm Overview\n",
    "\n",
    "The Gillespie algorithm proceeds as follows:\n",
    "\n",
    "# I would say that this part could be done later after having understood good the structure and the formalization of the algo\n",
    "---\n",
    "\n",
    "1. **Initialization**:\n",
    "   - Set initial populations: $ N_{\\text{prey}} $ and $ N_{\\text{predator}} $.\n",
    "   - Set initial time $ t = 0 $.\n",
    "\n",
    "2. **Compute Propensities**:\n",
    "   - $ a_1 = c_1 \\times N_{\\text{prey}} $\n",
    "   - $ a_2 = c_2 \\times N_{\\text{prey}} \\times N_{\\text{predator}} $\n",
    "   - $ a_3 = c_3 \\times N_{\\text{predator}} $\n",
    "   - Total propensity: $ a_0 = a_1 + a_2 + a_3 $\n",
    "\n",
    "3. **Determine Time to Next Reaction**:\n",
    "   - Generate a random number $ r_1 $ uniformly distributed in (0,1).\n",
    "   - Compute time increment: $ \\tau = \\frac{1}{a_0} \\ln\\left(\\frac{1}{r_1}\\right) $\n",
    "\n",
    "4. **Select Next Reaction**:\n",
    "   - Generate another random number $ r_2 $ uniformly distributed in (0,1).\n",
    "   - Determine which reaction occurs by finding $ \\mu $ such that:\n",
    "     $ \\sum_{j=1}^{\\mu-1} a_j < r_2 \\times a_0 \\leq \\sum_{j=1}^{\\mu} a_j $\n",
    "\n",
    "5. **Update System State**:\n",
    "   - Update populations based on the selected reaction.\n",
    "   - Advance time by $ \\tau $.\n",
    "\n",
    "6. **Iterate**:\n",
    "   - Repeat steps 2–5 until the desired simulation time is reached.\n",
    "\n",
    "This algorithm generates statistically correct trajectories of the stochastic system, allowing us to study the impact of randomness on predator-prey dynamics.\n",
    "\n",
    "---\n",
    "\n",
    "In the subsequent sections, we will implement this algorithm in Python to simulate and visualize the stochastic behavior of the Lotka–Volterra system.\n"
   ]
  },
  {
   "cell_type": "code",
   "execution_count": 28,
   "id": "972d7f2d",
   "metadata": {},
   "outputs": [],
   "source": [
    "import numpy as np\n",
    "import matplotlib.pyplot as plt\n",
    "from scipy.integrate import solve_ivp\n",
    "import random\n"
   ]
  },
  {
   "cell_type": "code",
   "execution_count": 29,
   "id": "9d02970b",
   "metadata": {},
   "outputs": [],
   "source": [
    "\n",
    "# Parameters\n",
    "alpha = 1.0   # Prey birth rate, Higher alpha means faster prey population growth\n",
    "beta = 0.1    # Predation rate, Specifically, how many prey are removed per unit time due to encounters with predators.\n",
    "delta = 0.075 # Predator reproduction rate. Determines how predator population increases as a result of consuming prey., A higher delta means more efficient conversion of eaten prey into predator offspring.\n",
    "gamma = 1.5   # Predator death rate Sets the rate at which predators die naturally, when no food (prey) is available\n",
    "sigma1 = 0.2  # Noise intensity for prey (SDE ONLY) This controls the random fluctuations in prey population (due to environmental or demographic variability)\n",
    "sigma2 = 0.2  # Noise intensity for predator (SDE ONLY) imilar to sigma1, but for the predator population.\n",
    "\n",
    "# Initial conditions\n",
    "x0 = 40\n",
    "y0 = 9\n",
    "T = 50\n",
    "dt = 0.01\n",
    "t = np.arange(0, T, dt)\n"
   ]
  },
  {
   "cell_type": "code",
   "execution_count": 30,
   "id": "97283f78",
   "metadata": {},
   "outputs": [],
   "source": [
    "from ipywidgets import interact, FloatSlider, IntSlider\n"
   ]
  },
  {
   "cell_type": "markdown",
   "id": "cd70e5c8",
   "metadata": {},
   "source": [
    "## Implementation for the Deterministic model "
   ]
  },
  {
   "cell_type": "code",
   "execution_count": null,
   "id": "da6b6208",
   "metadata": {},
   "outputs": [
    {
     "data": {
      "application/vnd.jupyter.widget-view+json": {
       "model_id": "89891ff163784dc4947effc77d10eb94",
       "version_major": 2,
       "version_minor": 0
      },
      "text/plain": [
       "interactive(children=(FloatSlider(value=1.0, description='α (Prey growth)', max=2.0, step=0.05), FloatSlider(v…"
      ]
     },
     "metadata": {},
     "output_type": "display_data"
    },
    {
     "data": {
      "text/plain": [
       "<function __main__.run_lv(alpha, beta, delta, gamma, x0, y0, T, dt)>"
      ]
     },
     "execution_count": 31,
     "metadata": {},
     "output_type": "execute_result"
    }
   ],
   "source": [
    "\n",
    "def simulate_lv(alpha, beta, delta, gamma, x0, y0, T, dt):\n",
    "    t = np.arange(0, T, dt) # time vector\n",
    "    x = [x0]\n",
    "    y = [y0] # initial populations of prey and predators\n",
    "\n",
    "    for i in range(1, len(t)):\n",
    "        dx = alpha * x[i-1] - beta * x[i-1] * y[i-1] # Prey growth\n",
    "        dy = delta * x[i-1] * y[i-1] - gamma * y[i-1] # Predator growth\n",
    "        \n",
    "        x_next = x[i-1] + dx * dt  # solving the ODE using Euler's method \n",
    "        y_next = y[i-1] + dy * dt\n",
    "        \n",
    "        x.append(max(x_next, 0))\n",
    "        y.append(max(y_next, 0))\n",
    "    \n",
    "    return np.array(t), np.array(x), np.array(y) \n",
    "\n",
    "def plot_lv_dynamics(t, x, y): \n",
    "    plt.figure(figsize=(12, 4))\n",
    "    plt.plot(t, x, label='Prey (x)', color='blue')\n",
    "    plt.plot(t, y, label='Predator (y)', color='red')\n",
    "    plt.xlabel('Time')\n",
    "    plt.ylabel('Population')\n",
    "    plt.title('Deterministic Lotka-Volterra Dynamics')\n",
    "    plt.legend()\n",
    "    plt.grid(True)\n",
    "    plt.show()\n",
    "\n",
    "\n",
    "# since we want to use the interact function, we define the run function for simulation and plot \n",
    "def run_lv(alpha, beta, delta, gamma, x0, y0, T, dt):\n",
    "    t, x, y = simulate_lv(alpha, beta, delta, gamma, x0, y0, T, dt)\n",
    "    plot_lv_dynamics(t, x, y)\n",
    "\n",
    "# here is an interactive plot for everything, we can study the behaviour of the model by changing the parameters \n",
    "# we can also change the population size, which can be usefull to study the behaviour based on it, because in the futur we will like to have it fixed. \n",
    "interact(\n",
    "    run_lv,\n",
    "    alpha=FloatSlider(min=0.0, max=2.0, step=0.05, value=1.0, description='α (Prey growth)'),\n",
    "    beta=FloatSlider(min=0.01, max=1.0, step=0.01, value=0.1, description='β (Predation rate)'),\n",
    "    delta=FloatSlider(min=0.005, max=0.1, step=0.005, value=0.02, description='δ (Pred. reproduction)'),\n",
    "    gamma=FloatSlider(min=0.1, max=2.0, step=0.05, value=0.5, description='γ (Pred. death)'),\n",
    "    x0=IntSlider(min=10, max=200, step=10, value=100, description='Initial Prey'),\n",
    "    y0=IntSlider(min=5, max=100, step=5, value=20, description='Initial Predator'),\n",
    "    T=IntSlider(min=10, max=100, step=5, value=50, description='(Simulation Time)'),\n",
    "    dt=FloatSlider(min=0.0005, max=0.01, step=0.0005, value=0.001, description='(Timestep)')\n",
    ")\n"
   ]
  },
  {
   "cell_type": "markdown",
   "id": "f79f9202",
   "metadata": {},
   "source": [
    "In this model, we can observe the behaviour we can expect from the model. \n",
    "\n",
    "The choice of an interactive graph allows us to have a good overview of the influence of each parameters. But, if we choose 4 parameters that are \"classical\" for a model, we can have the general behaviour of the model, not having some parameters at the extreme. \n",
    "If we choose : \n",
    "$ \\alpha = 1.00 $\n",
    "$ \\beta = 0.10 $\n",
    "$ \\gamma = 1.50 $\n",
    "$ \\delta = 0.07$."
   ]
  },
  {
   "cell_type": "markdown",
   "id": "58813191",
   "metadata": {},
   "source": [
    "## Predator-Prey dynamics with standard parameters\n",
    "\n",
    "In this model, we can observe the deterministic predator-prey dynamics predicted by the Lotka–Volterra equations. \n",
    "Using an interactive graph helps us visualize how each parameter influences the system. However, by choosing a standard set of parameters — (not too extreme) we can capture the general behavior of the model without introducing unusual effects.\n",
    "\n",
    "For example, using the following commonly used values:\n",
    "\n",
    "- $ \\alpha = 1.00 $  \n",
    "- $ \\beta = 0.10 $ \n",
    "- $ \\gamma = 1.50 $ \n",
    "- $ \\delta = 0.07 $ \n",
    "\n",
    "we obtain a \"typical\" simulation of predator-prey interactions.\n"
   ]
  },
  {
   "cell_type": "markdown",
   "id": "4dfb8342",
   "metadata": {},
   "source": [
    "# SDE PART "
   ]
  },
  {
   "cell_type": "code",
   "execution_count": 32,
   "id": "5f867160",
   "metadata": {},
   "outputs": [
    {
     "data": {
      "application/vnd.jupyter.widget-view+json": {
       "model_id": "3e9f61f38e4a49b3893846eb6c61e90f",
       "version_major": 2,
       "version_minor": 0
      },
      "text/plain": [
       "interactive(children=(FloatSlider(value=1.0, description='α (Prey growth)', max=2.0, step=0.05), FloatSlider(v…"
      ]
     },
     "metadata": {},
     "output_type": "display_data"
    }
   ],
   "source": [
    "def simulate_lv_sde(alpha, beta, delta, gamma, sigma1, sigma2, x0, y0, T, dt, seed=None):\n",
    "    if seed is not None:\n",
    "        np.random.seed(seed)\n",
    "\n",
    "    t = np.arange(0, T, dt)\n",
    "    x = np.zeros(len(t))\n",
    "    y = np.zeros(len(t))\n",
    "    x[0], y[0] = x0, y0\n",
    "\n",
    "    for n in range(1, len(t)):\n",
    "        z_n = np.random.randn()\n",
    "        w_n = np.random.randn()\n",
    "\n",
    "        x_prev, y_prev = x[n-1], y[n-1]\n",
    "        dx = (alpha * x_prev - beta * x_prev * y_prev) * dt + sigma1 * x_prev * np.sqrt(dt) * z_n\n",
    "        dy = (delta * x_prev * y_prev - gamma * y_prev) * dt + sigma2 * y_prev * np.sqrt(dt) * w_n\n",
    "\n",
    "        x[n] = max(x_prev + dx, 0)\n",
    "        y[n] = max(y_prev + dy, 0)\n",
    "\n",
    "    return t, x, y\n",
    "\n",
    "# Plotting function\n",
    "def plot_lv_sde(t, x, y):\n",
    "    # Time series\n",
    "    plt.figure(figsize=(12, 4))\n",
    "    plt.plot(t, x, label='Prey (x)', color='blue')\n",
    "    plt.plot(t, y, label='Predator (y)', color='red')\n",
    "    plt.xlabel(\"Time\")\n",
    "    plt.ylabel(\"Population\")\n",
    "    plt.title(\"Stochastic Lotka–Volterra Dynamics (Euler–Maruyama)\")\n",
    "    plt.legend()\n",
    "    plt.grid(True)\n",
    "    plt.show()\n",
    "\n",
    "\n",
    "# Wrapper function for interactive simulation\n",
    "def run_lv_sde(alpha, beta, delta, gamma, sigma1, sigma2, x0, y0, T, dt):\n",
    "    t, x, y = simulate_lv_sde(alpha, beta, delta, gamma, sigma1, sigma2, x0, y0, T, dt, seed=1)\n",
    "    plot_lv_sde(t, x, y)\n",
    "\n",
    "# Create interactive UI\n",
    "interact(\n",
    "    run_lv_sde,\n",
    "    alpha=FloatSlider(min=0.0, max=2.0, step=0.05, value=1.0, description='α (Prey growth)'),\n",
    "    beta=FloatSlider(min=0.01, max=1.0, step=0.01, value=0.1, description='β (Predation rate)'),\n",
    "    delta=FloatSlider(min=0.005, max=0.1, step=0.005, value=0.02, description='δ (Pred. reproduction)'),\n",
    "    gamma=FloatSlider(min=0.1, max=2.0, step=0.05, value=0.5, description='γ (Pred. death)'),\n",
    "    sigma1=FloatSlider(min=0.0, max=1.0, step=0.05, value=0.2, description='σ₁ (Prey noise)'),\n",
    "    sigma2=FloatSlider(min=0.0, max=1.0, step=0.05, value=0.2, description='σ₂ (Pred. noise)'),\n",
    "    x0=IntSlider(min=10, max=200, step=10, value=100, description='Initial Prey'),\n",
    "    y0=IntSlider(min=5, max=100, step=5, value=20, description='Initial Predator'),\n",
    "    T=IntSlider(min=10, max=100, step=5, value=50, description='T (Simulation Time)'),\n",
    "    dt=FloatSlider(min=0.0005, max=0.01, step=0.0005, value=0.001, description='dt (Timestep)')\n",
    ");\n"
   ]
  },
  {
   "cell_type": "markdown",
   "id": "15887dd8",
   "metadata": {},
   "source": [
    "### Interpretation of the Stochastic Lotka–Volterra simulation\n",
    "\n",
    "The general behavior of the system — governed by the parameters $\\alpha$, $\\beta$, $\\gamma$, and $\\delta$ — remains consistent with the deterministic version.\n",
    "\n",
    "The main difference lies in the presence of stochastic noise: the trajectories are no longer smooth, but exhibit random fluctuations around the deterministic paths. This variability is directly influenced by the noise intensities $\\sigma_1$ and $\\sigma_2$, which control the amplitude of the stochastic perturbations on the prey and predator populations, respectively.\n",
    "\n",
    "As expected:\n",
    "- Lower values of $\\sigma_1$ and $\\sigma_2$ lead to dynamics that ressembles the deterministic model.\n",
    "- Higher values introduce more pronounced deviations, increasing the irregularity of the cycles and the unpredictability of population levels.\n",
    "\n",
    "Overall, the simulation confirms the theoretical expectations: the stochastic model behaves like the deterministic one, but with noise whose magnitude depends directly on the chosen noise parameters.\n",
    "\n"
   ]
  },
  {
   "cell_type": "markdown",
   "id": "60e357a7",
   "metadata": {},
   "source": [
    "# Part 3: Stochastic Lotka-Volterra, using Gillespie algorithm"
   ]
  },
  {
   "cell_type": "code",
   "execution_count": null,
   "id": "aa8553da",
   "metadata": {},
   "outputs": [],
   "source": [
    "# Stochastic simulation using Gillespie algorithm\n",
    "def simulate_lv_reactions(c1, c2, c3, x0, y0, T, seed=None):\n",
    "    if seed is not None:\n",
    "        np.random.seed(seed)\n",
    "\n",
    "    # Initial time and populations\n",
    "    t = [0.0]\n",
    "    x = [x0]\n",
    "    y = [y0]\n",
    "\n",
    "    while t[-1] < T and x[-1] > 0 and y[-1] > 0: # Continue while either time is ended, either one of the population is 0\n",
    "        x_curr, y_curr = x[-1], y[-1]\n",
    "\n",
    "        # Propensities (event rates)\n",
    "        a1 = c1 * x_curr                    # Prey reproduction\n",
    "        a2 = c2 * x_curr * y_curr           # Predation\n",
    "        a3 = c3 * y_curr                    # Predator death\n",
    "        a_total = a1 + a2 + a3\n",
    "\n",
    "        if a_total == 0:\n",
    "            break  # no more reactions possible\n",
    "\n",
    "        # Time to next event\n",
    "        dt = np.random.exponential(1.0 / a_total)\n",
    "        t.append(t[-1] + dt)\n",
    "\n",
    "        # Determine which event occurs\n",
    "        r = np.random.rand() * a_total\n",
    "        if r < a1:\n",
    "            x.append(x_curr + 1)    # prey reproduces\n",
    "            y.append(y_curr)\n",
    "        elif r < a1 + a2:\n",
    "            x.append(x_curr - 1)    # predation: prey dies\n",
    "            y.append(y_curr + 1)    # predator reproduces\n",
    "        else:\n",
    "            x.append(x_curr)        # predator dies\n",
    "            y.append(y_curr - 1)\n",
    "\n",
    "    return np.array(t), np.array(x), np.array(y)\n"
   ]
  },
  {
   "cell_type": "code",
   "execution_count": 70,
   "id": "b0a60420",
   "metadata": {},
   "outputs": [],
   "source": [
    "def plot_lv_reactions(t, x, y):\n",
    "    # Time series\n",
    "    plt.figure(figsize=(12, 4))\n",
    "    plt.step(t, x, where='post', label='Prey (x)', color='blue')\n",
    "    plt.step(t, y, where='post', label='Predator (y)', color='red')\n",
    "    plt.xlabel(\"Time\")\n",
    "    plt.ylabel(\"Population\")\n",
    "    plt.title(\"Stochastic Reaction Simulation (Gillespie Algorithm)\")\n",
    "    plt.legend()\n",
    "    plt.grid(True)\n",
    "    plt.show()\n"
   ]
  },
  {
   "cell_type": "markdown",
   "id": "9676bc1d",
   "metadata": {},
   "source": [
    "#### For this part we decide to fix the population size, this choice is motivated by the fact that we would like to observe the effect of each variables $c_1$, $c_2$ and $c_3$. \n",
    "#### By choosing a population size of 100 initial prey and 20 initial predators, we are putting ourself in natural settings that allows us to change the other parameters and have informations about their impact on the behaviour of the populations\n"
   ]
  },
  {
   "cell_type": "markdown",
   "id": "9c70f272",
   "metadata": {},
   "source": [
    "#### As for the previous models, the interactive plot is made to give an overview of the models behaviour when changing parameters. \n",
    "#### The end time and initial populations are variables here, but only for an exploration purpose, for the rest of the simulations it will be fixed as:\n",
    "- $T$ = 50 (end_time)\n",
    "- $x_o$ = 100 (initial prey time)\n",
    "- $y_0$ = 20 (initial predator time)\n"
   ]
  },
  {
   "cell_type": "code",
   "execution_count": null,
   "id": "1841afcc",
   "metadata": {},
   "outputs": [
    {
     "data": {
      "application/vnd.jupyter.widget-view+json": {
       "model_id": "978f790997f94718b825f8ae3ed15131",
       "version_major": 2,
       "version_minor": 0
      },
      "text/plain": [
       "interactive(children=(FloatSlider(value=0.5, description='c₁ (Prey birth)', max=2.0), FloatSlider(value=0.001,…"
      ]
     },
     "metadata": {},
     "output_type": "display_data"
    },
    {
     "data": {
      "text/plain": [
       "<function __main__.run_lv_reactions(c1, c2, c3, x0, y0, T)>"
      ]
     },
     "execution_count": 71,
     "metadata": {},
     "output_type": "execute_result"
    }
   ],
   "source": [
    "def run_lv_reactions(c1, c2, c3, x0, y0, T):\n",
    "    t, x, y = simulate_lv_reactions(c1, c2, c3, x0, y0, T, seed=1)\n",
    "    plot_lv_reactions(t, x, y)\n",
    "    \n",
    "\n",
    "### Here, maybe it would be usefull to explain what is what... meaning of the parameters and the meaning of the choice of the models.\n",
    "interact(\n",
    "    run_lv_reactions,\n",
    "    c1=FloatSlider(min=0.00, max=2.0, step=0.1, value=0.5, description='c₁ (Prey birth)'),\n",
    "    c2=FloatSlider(min=0.0001, max=0.1, step=0.0005, value=0.001, description='c₂ (Predation)'), \n",
    "    c3=FloatSlider(min=0.01, max=1.0, step=0.01, value=0.5, description='c₃ (Pred. death)'),\n",
    "    x0=IntSlider(min=10, max=200, step=10, value=100, description='Initial Prey'),\n",
    "    y0=IntSlider(min=5, max=100, step=5, value=20, description='Initial Predator'),\n",
    "    T=IntSlider(min=10, max=100, step=5, value=50, description='T (Simulation Time)')\n",
    ")\n"
   ]
  },
  {
   "cell_type": "markdown",
   "id": "18163475",
   "metadata": {},
   "source": [
    "### In this Part we want to study the the probability of prey exctinction probability. \n",
    "This is done in order to understand the effect of each values on the others.\\"
   ]
  },
  {
   "cell_type": "code",
   "execution_count": 77,
   "id": "aa8b75d5",
   "metadata": {},
   "outputs": [],
   "source": [
    "def extinction_heatmap_c1_c2(c1_vals, c2_vals, c3=0.5, x0=100, y0=20, T=50, runs=50): # fix value of c3 \n",
    "    Z = np.zeros((len(c1_vals), len(c2_vals)))\n",
    "    for i, c1 in enumerate(c1_vals):\n",
    "        for j, c2 in enumerate(c2_vals):\n",
    "            ext = 0\n",
    "            for _ in range(runs):\n",
    "                _, x, _ = simulate_lv_reactions(c1=c1, c2=c2, c3=c3, x0=x0, y0=y0, T=T)\n",
    "                if x[-1] == 0:\n",
    "                    ext += 1\n",
    "            Z[i, j] = ext / runs\n",
    "    plt.figure(figsize=(8, 6))\n",
    "    plt.imshow(Z, origin='lower', extent=[c2_vals[0], c2_vals[-1], c1_vals[0], c1_vals[-1]],\n",
    "               aspect='auto', cmap='plasma')\n",
    "    plt.colorbar(label='Prey Extinction Probability')\n",
    "    plt.xlabel('c₂ (Predation rate)')\n",
    "    plt.ylabel('c₁ (Prey birth rate)')\n",
    "    plt.title('Prey Extinction: c₁ vs. c₂')\n",
    "    plt.grid(False)\n",
    "    plt.show()\n"
   ]
  },
  {
   "cell_type": "markdown",
   "id": "d2b2c5c3",
   "metadata": {},
   "source": [
    "We choose $c_1$ and $c_3$, this is an empirical choice. \\\n",
    "when running the code we also tryed it with $0.3, 0.4, 0.5, 0.6, 0.7$ and they re values that is truncating information about the prey instiction probability. \n",
    "The following fixed values have been chosen :\n",
    "- $c_1$ = 0.5\n",
    "- $c_3$ = 0.5 \n",
    "\n",
    "Remark : These choice are depending on the choice of the other parameters. Meaning that if we decide to set the initial populations at 1000 for preys and 200 for predators, then the choice of the biological parameters will be different. But as we explained above, the populations, and time are fixed so we can observe the behaviour of the model. \\\n",
    "It could be the scope of another project but for this one we will focus on $c_1$, $c_2$, $c_3$, based on fix population and fix end time. "
   ]
  },
  {
   "cell_type": "code",
   "execution_count": 78,
   "id": "3ad2cedf",
   "metadata": {},
   "outputs": [],
   "source": [
    "def extinction_heatmap_c2_c3(c2_vals, c3_vals, c1=0.5, x0=100, y0=20, T=50, runs=50): # fix value of c1\n",
    "    Z = np.zeros((len(c2_vals), len(c3_vals)))\n",
    "    for i, c2 in enumerate(c2_vals):\n",
    "        for j, c3 in enumerate(c3_vals):\n",
    "            ext = 0\n",
    "            for _ in range(runs):\n",
    "                _, x, _ = simulate_lv_reactions(c1=c1, c2=c2, c3=c3, x0=x0, y0=y0, T=T)\n",
    "                if x[-1] == 0:\n",
    "                    ext += 1\n",
    "            Z[i, j] = ext / runs\n",
    "    plt.figure(figsize=(8, 6))\n",
    "    plt.imshow(Z, origin='lower', extent=[c3_vals[0], c3_vals[-1], c2_vals[0], c2_vals[-1]],\n",
    "               aspect='auto', cmap='plasma')\n",
    "    plt.colorbar(label='Prey Extinction Probability')\n",
    "    plt.xlabel('c₃ (Predator death rate)')\n",
    "    plt.ylabel('c₂ (Predation rate)')\n",
    "    plt.title('Prey Extinction: c₂ vs. c₃')\n",
    "    plt.grid(False)\n",
    "    plt.show()\n"
   ]
  },
  {
   "cell_type": "markdown",
   "id": "000ccb84",
   "metadata": {},
   "source": [
    "The choice of c2 = 0.01 is motivated by empirical ........ \n",
    "From Rochefort university slides about the subject. Also other papers\n"
   ]
  },
  {
   "cell_type": "code",
   "execution_count": 79,
   "id": "8ef7bb70",
   "metadata": {},
   "outputs": [],
   "source": [
    "def extinction_heatmap_c1_c3(c1_vals, c3_vals, c2=0.01, x0=100, y0=20, T=50, runs=50): # fix value of c2 \n",
    "    Z = np.zeros((len(c1_vals), len(c3_vals)))\n",
    "    for i, c1 in enumerate(c1_vals):\n",
    "        for j, c3 in enumerate(c3_vals):\n",
    "            ext = 0\n",
    "            for _ in range(runs):\n",
    "                _, x, _ = simulate_lv_reactions(c1=c1, c2=c2, c3=c3, x0=x0, y0=y0, T=T)\n",
    "                if x[-1] == 0:\n",
    "                    ext += 1\n",
    "            Z[i, j] = ext / runs\n",
    "    plt.figure(figsize=(8, 6))\n",
    "    plt.imshow(Z, origin='lower', extent=[c3_vals[0], c3_vals[-1], c1_vals[0], c1_vals[-1]],\n",
    "               aspect='auto', cmap='plasma')\n",
    "    plt.colorbar(label='Prey Extinction Probability')\n",
    "    plt.xlabel('c₃ (Predator death rate)')\n",
    "    plt.ylabel('c₁ (Prey birth rate)')\n",
    "    plt.title('Prey Extinction: c₁ vs. c₃')\n",
    "    plt.grid(False)\n",
    "    plt.show()\n",
    "\n"
   ]
  },
  {
   "cell_type": "code",
   "execution_count": 80,
   "id": "ea888486",
   "metadata": {},
   "outputs": [],
   "source": [
    "c1_vals = np.linspace(0.1, 1.0, 20)\n",
    "c2_vals = np.linspace(0.001, 0.05, 20)\n",
    "c3_vals = np.linspace(0.1, 1.0, 20)"
   ]
  },
  {
   "cell_type": "code",
   "execution_count": null,
   "id": "ca94faec",
   "metadata": {},
   "outputs": [],
   "source": [
    "extinction_heatmap_c1_c2(c1_vals, c2_vals)\n"
   ]
  },
  {
   "cell_type": "markdown",
   "id": "97863658",
   "metadata": {},
   "source": [
    "This heatmap shows how the probability of **prey extinction** changes based on:\n",
    "\n",
    "- **$c_1$**: prey birth rate (y-axis)\n",
    "- **$c_2$**: predation rate (x-axis)\n",
    "\n",
    "#### Key Observations:\n",
    "\n",
    "1. **High $c_2$**:\n",
    "   - Even with a high prey birth rate, predation dominates. \n",
    "   - The prey population is almost always driven to extinction (yellow regions).\n",
    "\n",
    "2. **Low $c_2$**:\n",
    "   - If $c_1 $ is also low, prey reproduce too slowly and may still go extinct (purple-orange).\n",
    "   - As $ c_1 $ increases, prey reproduction outpaces predation, and extinction becomes unlikely (dark blue).\n",
    "\n",
    "3. **Transition zone**:\n",
    "   - A diagonal boundary separates extinction from survival, it is not a strict separation but graduatly improves or \n",
    "   - This represents a tipping point where prey reproduction begins to counterbalance predation.\n",
    "\n",
    "This map helps identify critical combinations of $ c_1 $ and $ c_2 $ where the survival of the prey population is at risk.\n"
   ]
  },
  {
   "cell_type": "code",
   "execution_count": 67,
   "id": "efacd992",
   "metadata": {},
   "outputs": [
    {
     "data": {
      "image/png": "[encoded data removed]",
      "text/plain": [
       "<Figure size 800x600 with 2 Axes>"
      ]
     },
     "metadata": {},
     "output_type": "display_data"
    }
   ],
   "source": [
    "extinction_heatmap_c2_c3(c2_vals, c3_vals)\n"
   ]
  },
  {
   "cell_type": "markdown",
   "id": "c5b064e7",
   "metadata": {},
   "source": [
    "### Biological and Model Interpretation\n",
    "\n",
    "This heatmap shows how the probability of **prey extinction** changes based on:\n",
    "\n",
    "- **$c_2$**: predation rate (y-axis)\n",
    "- **$c_3$**: predator death rate (x-axis)\n",
    "\n",
    "#### Key Observations:\n",
    "\n",
    "1. **Low predator death rate ($c_3$ low)**:\n",
    "   - Predators survive longer, maintaining high predation pressure.\n",
    "   - Even at low $c_2$, prey are likely to go extinct (yellow regions dominate).\n",
    "\n",
    "2. **High predator death rate ($c_3$ high)**:\n",
    "   - Predators die off quickly, reducing their impact.\n",
    "   - Prey extinction becomes much less likely, especially when $c_2$ is also low (dark blue regions).\n",
    "\n",
    "3. **threshold zone**:\n",
    "   - A diagonal band shows where increasing $c_3$ begins to counteract the effect of $c_2$.\n",
    "   - This boundary represents a shift from predator-dominated extinction to prey survival.\n",
    "\n",
    "This plot highlights the **interplay between predation intensity and predator sustainability** in determining whether prey populations persist or collapse.\n"
   ]
  },
  {
   "cell_type": "code",
   "execution_count": 68,
   "id": "b69534a3",
   "metadata": {},
   "outputs": [
    {
     "data": {
      "image/png": "[encoded data removed]",
      "text/plain": [
       "<Figure size 800x600 with 2 Axes>"
      ]
     },
     "metadata": {},
     "output_type": "display_data"
    }
   ],
   "source": [
    "extinction_heatmap_c1_c3(c1_vals, c3_vals)\n"
   ]
  },
  {
   "cell_type": "markdown",
   "id": "b83aa56a",
   "metadata": {},
   "source": [
    "This heatmap shows how the probability of prey extinction changes based on:\n",
    "\n",
    "- **$c_1$**: prey birth rate (y-axis)\n",
    "- **$c_3$**: predator death rate (x-axis)\n",
    "\n",
    "#### Key Observations:\n",
    "\n",
    "1. **Low $c_3$**:\n",
    "   - Predators survive longer and maintain strong pressure on prey.\n",
    "   - Even high prey birth rates ($c_1$) cannot prevent extinction (yellow region dominates).\n",
    "\n",
    "2. **High $c_3$**:\n",
    "   - Predators die quickly, giving prey a better chance to survive.\n",
    "   - Even low prey birth rates can be enough for survival (dark blue area).\n",
    "\n",
    "3. **Transition zone**:\n",
    "   - A vertical band marks the shift where increasing $c_3$ begins to counteract predation.\n",
    "   - The tipping point depends on $c_1$: higher prey birth rate pushes the transition zone leftward.\n",
    "\n",
    "This plot emphasizes the **combined effect of prey growth and predator decay** on prey survival, showing that **prey extinction becomes less likely when either reproduction is high or predators are short-lived**.\n"
   ]
  }
 ],
 "metadata": {
  "kernelspec": {
   "display_name": "StochasticProject",
   "language": "python",
   "name": "python3"
  },
  "language_info": {
   "codemirror_mode": {
    "name": "ipython",
    "version": 3
   },
   "file_extension": ".py",
   "mimetype": "text/x-python",
   "name": "python",
   "nbconvert_exporter": "python",
   "pygments_lexer": "ipython3",
   "version": "3.10.16"
  }
 },
 "nbformat": 4,
 "nbformat_minor": 5
}
